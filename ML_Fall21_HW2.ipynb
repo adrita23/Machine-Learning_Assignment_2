{
  "nbformat": 4,
  "nbformat_minor": 0,
  "metadata": {
    "colab": {
      "name": "Original of ML_Fall21_HW2.ipynb",
      "provenance": [],
      "mount_file_id": "1KVxARuzQkzOmeTAeFloVJI0_2JXLTM0L",
      "authorship_tag": "ABX9TyNNMDTSZZIIyzh7Ezow5otU",
      "include_colab_link": true
    },
    "kernelspec": {
      "name": "python3",
      "display_name": "Python 3"
    },
    "language_info": {
      "name": "python"
    }
  },
  "cells": [
    {
      "cell_type": "markdown",
      "metadata": {
        "id": "view-in-github",
        "colab_type": "text"
      },
      "source": [
        "<a href=\"https://colab.research.google.com/github/adrita23/Machine-Learning_Assignment_2/blob/main/ML_Fall21_HW2.ipynb\" target=\"_parent\"><img src=\"https://colab.research.google.com/assets/colab-badge.svg\" alt=\"Open In Colab\"/></a>"
      ]
    },
    {
      "cell_type": "code",
      "metadata": {
        "id": "Yo4IL15dyIY7"
      },
      "source": [
        "#Fall 2021\n",
        "#ML 633: Machine Learning\n",
        "#Homework: 2 \n",
        "#Date: October 7, 2021\n",
        "#Author: Adrita Anika"
      ],
      "execution_count": 1,
      "outputs": []
    },
    {
      "cell_type": "code",
      "metadata": {
        "id": "-_tTii2i1BXt"
      },
      "source": [
        "#Question 2"
      ],
      "execution_count": 2,
      "outputs": []
    },
    {
      "cell_type": "code",
      "metadata": {
        "id": "Aq90b05V2UQ7"
      },
      "source": [
        "import numpy as np\n",
        "import pandas as pd\n",
        "import matplotlib.pyplot as plt\n",
        "import seaborn as sns"
      ],
      "execution_count": 3,
      "outputs": []
    },
    {
      "cell_type": "code",
      "metadata": {
        "id": "z3rIJOPz1wj8"
      },
      "source": [
        "#import data\n",
        "data = pd.read_csv('/content/drive/MyDrive/ML HW/hw2_data.csv') "
      ],
      "execution_count": 4,
      "outputs": []
    },
    {
      "cell_type": "code",
      "metadata": {
        "colab": {
          "base_uri": "https://localhost:8080/",
          "height": 203
        },
        "id": "CQ6-yvTs2hGt",
        "outputId": "5dfb6b1d-3875-4c42-e108-3ad7de6c4d35"
      },
      "source": [
        "data.head()"
      ],
      "execution_count": 5,
      "outputs": [
        {
          "output_type": "execute_result",
          "data": {
            "text/html": [
              "<div>\n",
              "<style scoped>\n",
              "    .dataframe tbody tr th:only-of-type {\n",
              "        vertical-align: middle;\n",
              "    }\n",
              "\n",
              "    .dataframe tbody tr th {\n",
              "        vertical-align: top;\n",
              "    }\n",
              "\n",
              "    .dataframe thead th {\n",
              "        text-align: right;\n",
              "    }\n",
              "</style>\n",
              "<table border=\"1\" class=\"dataframe\">\n",
              "  <thead>\n",
              "    <tr style=\"text-align: right;\">\n",
              "      <th></th>\n",
              "      <th>name</th>\n",
              "      <th>stamina</th>\n",
              "      <th>attack_value</th>\n",
              "      <th>defense_value</th>\n",
              "      <th>capture_rate</th>\n",
              "      <th>flee_rate</th>\n",
              "      <th>spawn_chance</th>\n",
              "      <th>primary_strength</th>\n",
              "      <th>combat_point</th>\n",
              "    </tr>\n",
              "  </thead>\n",
              "  <tbody>\n",
              "    <tr>\n",
              "      <th>0</th>\n",
              "      <td>Bulbasaur</td>\n",
              "      <td>90</td>\n",
              "      <td>126</td>\n",
              "      <td>126</td>\n",
              "      <td>0.16</td>\n",
              "      <td>0.10</td>\n",
              "      <td>69.0</td>\n",
              "      <td>Grass</td>\n",
              "      <td>1079</td>\n",
              "    </tr>\n",
              "    <tr>\n",
              "      <th>1</th>\n",
              "      <td>Ivysaur</td>\n",
              "      <td>120</td>\n",
              "      <td>156</td>\n",
              "      <td>158</td>\n",
              "      <td>0.08</td>\n",
              "      <td>0.07</td>\n",
              "      <td>4.2</td>\n",
              "      <td>Grass</td>\n",
              "      <td>1643</td>\n",
              "    </tr>\n",
              "    <tr>\n",
              "      <th>2</th>\n",
              "      <td>Venusaur</td>\n",
              "      <td>160</td>\n",
              "      <td>198</td>\n",
              "      <td>200</td>\n",
              "      <td>0.04</td>\n",
              "      <td>0.05</td>\n",
              "      <td>1.7</td>\n",
              "      <td>Grass</td>\n",
              "      <td>2598</td>\n",
              "    </tr>\n",
              "    <tr>\n",
              "      <th>3</th>\n",
              "      <td>Charmander</td>\n",
              "      <td>78</td>\n",
              "      <td>128</td>\n",
              "      <td>108</td>\n",
              "      <td>0.16</td>\n",
              "      <td>0.10</td>\n",
              "      <td>25.3</td>\n",
              "      <td>Fire</td>\n",
              "      <td>962</td>\n",
              "    </tr>\n",
              "    <tr>\n",
              "      <th>4</th>\n",
              "      <td>Charmeleon</td>\n",
              "      <td>116</td>\n",
              "      <td>160</td>\n",
              "      <td>140</td>\n",
              "      <td>0.08</td>\n",
              "      <td>0.07</td>\n",
              "      <td>1.2</td>\n",
              "      <td>Fire</td>\n",
              "      <td>1568</td>\n",
              "    </tr>\n",
              "  </tbody>\n",
              "</table>\n",
              "</div>"
            ],
            "text/plain": [
              "         name  stamina  ...  primary_strength  combat_point\n",
              "0   Bulbasaur       90  ...             Grass          1079\n",
              "1     Ivysaur      120  ...             Grass          1643\n",
              "2    Venusaur      160  ...             Grass          2598\n",
              "3  Charmander       78  ...              Fire           962\n",
              "4  Charmeleon      116  ...              Fire          1568\n",
              "\n",
              "[5 rows x 9 columns]"
            ]
          },
          "metadata": {},
          "execution_count": 5
        }
      ]
    },
    {
      "cell_type": "markdown",
      "metadata": {
        "id": "O-zIbQy03WCq"
      },
      "source": [
        "**Question 2: Machine Learning with Pokemon Go**\n",
        "\n",
        "**i. Data exploration:** Column 8 is categorical and Column 2-Column 7 are numerical attributes of this dataset."
      ]
    },
    {
      "cell_type": "code",
      "metadata": {
        "colab": {
          "base_uri": "https://localhost:8080/",
          "height": 344
        },
        "id": "w7PFfAJ9E0G3",
        "outputId": "33483e41-5164-468d-d008-dbd6e8405e52"
      },
      "source": [
        "# ii. Plot 2D Scatter Plots\n",
        "# for columns 2-6\n",
        "fig, axes = plt.subplots(1, 6)\n",
        "sns.set(rc = {'figure.figsize':(25,5)})\n",
        "\n",
        "for i in range(1,7):\n",
        "  sns.scatterplot(ax= axes[i-1], x=data.columns[i], y=data.columns[-1], data=data)\n",
        "  axes[i-1].set_title(data.columns[-1]+ \" vs \"+ data.columns[i])"
      ],
      "execution_count": 27,
      "outputs": [
        {
          "output_type": "display_data",
          "data": {
            "image/png": "[encoded data removed]",
            "text/plain": [
              "<Figure size 1800x360 with 6 Axes>"
            ]
          },
          "metadata": {}
        }
      ]
    },
    {
      "cell_type": "code",
      "metadata": {
        "colab": {
          "base_uri": "https://localhost:8080/",
          "height": 372
        },
        "id": "H6eqklICUNvS",
        "outputId": "1e8a6f12-ae9b-42ae-e250-280dcc4a6e16"
      },
      "source": [
        "#for column 7\n",
        "data[data.columns[-2]] = data[data.columns[-2]].astype('category')\n",
        "#data.describe(include='category')\n",
        "sns.set(rc = {'figure.figsize':(10,5)})\n",
        "ax2 = sns.scatterplot( x=data.columns[-2], y=data.columns[-1], data=data)\n",
        "ax2.set_title(data.columns[-1]+ \" vs \"+ data.columns[-2])"
      ],
      "execution_count": 7,
      "outputs": [
        {
          "output_type": "execute_result",
          "data": {
            "text/plain": [
              "Text(0.5, 1.0, 'combat_point vs primary_strength')"
            ]
          },
          "metadata": {},
          "execution_count": 7
        },
        {
          "output_type": "display_data",
          "data": {
            "image/png": "[encoded data removed]",
            "text/plain": [
              "<Figure size 720x360 with 1 Axes>"
            ]
          },
          "metadata": {}
        }
      ]
    },
    {
      "cell_type": "code",
      "metadata": {
        "colab": {
          "base_uri": "https://localhost:8080/"
        },
        "id": "NG1D2W22WBl_",
        "outputId": "5fb3dbb5-6e67-4da1-d6de-7216d7921df4"
      },
      "source": [
        "#calculate pearson coefficient\n",
        "#pearson_r = []\n",
        "from scipy import stats\n",
        "for i in range(1, 7):\n",
        "  #print(len(data.columns[i]), len(data.columns[-1]))\n",
        "  pearson_r, p = stats.pearsonr(data[data.columns[i]], data[data.columns[-1]])\n",
        "  print(f\"The Pearson coefficient between {data.columns[-1]} and {data.columns[i]} are: {round(pearson_r,4)}\")"
      ],
      "execution_count": 8,
      "outputs": [
        {
          "output_type": "stream",
          "name": "stdout",
          "text": [
            "The Pearson coefficient between combat_point and stamina are: 0.5828\n",
            "The Pearson coefficient between combat_point and attack_value are: 0.9075\n",
            "The Pearson coefficient between combat_point and defense_value are: 0.8262\n",
            "The Pearson coefficient between combat_point and capture_rate are: -0.743\n",
            "The Pearson coefficient between combat_point and flee_rate are: -0.407\n",
            "The Pearson coefficient between combat_point and spawn_chance are: -0.4213\n"
          ]
        }
      ]
    },
    {
      "cell_type": "markdown",
      "metadata": {
        "id": "Qe9eumrqalRt"
      },
      "source": [
        "**ii. Data Exploration:**"
      ]
    },
    {
      "cell_type": "code",
      "metadata": {
        "id": "MxqWNhEtaQW1"
      },
      "source": [
        "# iii. Plot scatters plots between the features and see thier correlation\n",
        "\n",
        "#calculate correlation matrix and plot heatmap\n",
        "\n"
      ],
      "execution_count": 9,
      "outputs": []
    },
    {
      "cell_type": "markdown",
      "metadata": {
        "id": "vbRoR7Csa6Lm"
      },
      "source": [
        "**iii. Data Exploration**"
      ]
    },
    {
      "cell_type": "code",
      "metadata": {
        "id": "OO5eSGuameFu"
      },
      "source": [
        "# Pre-processing of categorical values with one hot encoding\n",
        "\n",
        "#print(data[\"primary_strength\"].unique())\n",
        "#print(data[\"primary_strength\"].value_counts())\n",
        "one_hot_encoded_data = pd.get_dummies(data, columns = ['primary_strength'])\n",
        "#print(one_hot_encoded_data)"
      ],
      "execution_count": 10,
      "outputs": []
    },
    {
      "cell_type": "markdown",
      "metadata": {
        "id": "Zn794p7RovsW"
      },
      "source": [
        "**iv Pre-processing of categorical values with one hot encoding**"
      ]
    },
    {
      "cell_type": "code",
      "metadata": {
        "id": "YGMCXT3ioqQ7"
      },
      "source": [
        "#v. Implementing Linear Regression with Closed Form Solution\n",
        "class Linear_regression:\n",
        "\n",
        "  def __init__(self, X_train, Y_train):\n",
        "    self.Y_train = Y_train\n",
        "    # X_train is a N x D dimensional matrix, where N is the number of samples and D is the numebr of features \n",
        "    N, D = X_train.shape\n",
        "    a = np.ones([N, 1])\n",
        "    self.X_train = np.hstack((a, X_train))\n",
        "    #self.w = np.random.rand(D+1, 1)\n",
        "\n",
        "  def fit(self):\n",
        "    #Ordinary least square solution\n",
        "    A =  np.linalg.pinv(np.matmul((self.X_train).T, self.X_train)) \n",
        "    B = np.matmul((self.X_train).T, self.Y_train)\n",
        "    self.w = np.matmul(A,B)\n",
        "    #print(\"The number of parameters\", len(self.w))\n",
        "\n",
        "  def predict(self, X_test):\n",
        "    n, D = X_test.shape\n",
        "    a = np.ones([n, 1])\n",
        "    X_test = np.hstack((a, X_test))\n",
        "    #print(\"X_test_shape\", X_test.shape)\n",
        "    res = np.matmul(X_test, self.w)\n",
        "    return res\n"
      ],
      "execution_count": 11,
      "outputs": []
    },
    {
      "cell_type": "code",
      "metadata": {
        "id": "ymM7cY2093JM"
      },
      "source": [
        "Y = one_hot_encoded_data[\"combat_point\"].to_numpy().reshape(146,1)\n",
        "#print(Y.shape)\n",
        "name = one_hot_encoded_data[\"name\"].to_numpy()\n",
        "one_hot_encoded_data.drop([\"combat_point\", \"name\"], axis=1, inplace=True)\n",
        "X =one_hot_encoded_data.to_numpy()\n",
        "#print(X.shape)\n",
        "data_np = np.hstack((X,Y))"
      ],
      "execution_count": 12,
      "outputs": []
    },
    {
      "cell_type": "code",
      "metadata": {
        "id": "bePcX1cBTr0X"
      },
      "source": [
        "#Random shuff;=ling and splitting into 5 folds\n",
        "X_train = {}\n",
        "Y_train = {}\n",
        "\n",
        "np.random.shuffle(data_np)\n",
        "X_train[0], Y_train[0] = data_np[0:29, :-1], data_np[0:29, -1].reshape(29,1)\n",
        "X_train[1], Y_train[1] = data_np[1*29: 1*29+29, :-1], data_np[1*29: 1*29+29, -1].reshape(29,1)\n",
        "X_train[2], Y_train[2] = data_np[2*29: 2*29+29, :-1], data_np[2*29: 2*29+29, -1].reshape(29,1)\n",
        "X_train[3], Y_train[3] = data_np[3*29: 3*29+29, :-1], data_np[3*29:3*29+29, -1].reshape(29,1)\n",
        "X_train[4], Y_train[4] = data_np[4*29: , :-1], data_np[4*29: , -1].reshape(30,1)"
      ],
      "execution_count": 13,
      "outputs": []
    },
    {
      "cell_type": "code",
      "metadata": {
        "colab": {
          "base_uri": "https://localhost:8080/"
        },
        "id": "PzDrgjqpW9wg",
        "outputId": "cd8ba60d-84fa-4838-b10c-43e1024aa0f3"
      },
      "source": [
        "#cross_validation\n",
        "def RSS(Y_Pred, Y_Actual):\n",
        "      rss_error = np.sum(np.square(Y_Pred- Y_Actual))\n",
        "      return np.sqrt(rss_error)\n",
        "\n",
        "fold_RSS = []\n",
        "for i in range(5):\n",
        "  XTrain = np.ones([1, 21])\n",
        "  YTrain = np.ones([1, 1])\n",
        "  for j in range(5):\n",
        "    if i!= j: \n",
        "      XTrain = np.vstack((XTrain, X_train[j]))\n",
        "      YTrain = np.vstack((YTrain, Y_train[j]))\n",
        "  X_test = X_train[i]\n",
        "  Y_test = Y_train[i]\n",
        "\n",
        "  LP = Linear_regression(XTrain[1: ], YTrain[1: ])\n",
        "  LP.fit()\n",
        "  Y_Pred = LP.predict(X_test)\n",
        "  fold_RSS.append(RSS(Y_Pred, Y_test))\n",
        "  \n",
        "print(np.average(fold_RSS))"
      ],
      "execution_count": 14,
      "outputs": [
        {
          "output_type": "stream",
          "name": "stdout",
          "text": [
            "890.6305033245504\n"
          ]
        }
      ]
    },
    {
      "cell_type": "markdown",
      "metadata": {
        "id": "5VdR5iNSo87S"
      },
      "source": [
        "**v. Linear Regression and Cross Validation**"
      ]
    },
    {
      "cell_type": "code",
      "metadata": {
        "id": "HuWzziRApGb5"
      },
      "source": [
        "# With Regularization\n",
        "class Linear_regression_with_l2_reg:\n",
        "  \n",
        "  def __init__(self, X_train, Y_train, reg_coeff):\n",
        "    self.Y_train = Y_train\n",
        "    # X_train is a N x D dimensional matrix, where N is the number of samples and D is the numebr of features \n",
        "    N, self.D = X_train.shape\n",
        "    a = np.ones([N, 1])\n",
        "    self.X_train = np.hstack((a, X_train))\n",
        "    self.reg_coeff = reg_coeff\n",
        "\n",
        "  def fit(self):\n",
        "    #Ordinary least square solution\n",
        "    I = self.reg_coeff * np.eye(self.D+1)\n",
        "    A =  np.linalg.pinv(np.matmul((self.X_train).T, self.X_train)+I) \n",
        "    B = np.matmul((self.X_train).T, self.Y_train)\n",
        "    self.w = np.matmul(A,B)\n",
        "    #print(\"The number of parameters\", len(self.w))\n",
        "\n",
        "  def predict(self, X_test):\n",
        "    n, self.D = X_test.shape\n",
        "    a = np.ones([n, 1])\n",
        "    X_test = np.hstack((a, X_test))\n",
        "    #print(\"X_test_shape\", X_test.shape)\n",
        "    res = np.matmul(X_test, self.w)\n",
        "    return res"
      ],
      "execution_count": 15,
      "outputs": []
    },
    {
      "cell_type": "code",
      "metadata": {
        "id": "4E0Q1EKxuciN"
      },
      "source": [
        "#cross_validation with l2\n",
        "Lambda = [5, 4.5, 4, 3.5, 3, 2.5, 2.0, 1.5, 1.00, 0.5, 0.1, 0.05, 0.01, 0.001, 1e-7, 1e-8]\n",
        "def RSS(Y_Pred, Y_Actual):\n",
        "      rss_error = np.sum(np.square(Y_Pred - Y_Actual))\n",
        "      return np.sqrt(rss_error)\n",
        "\n",
        "fold_RSS_reg_l2 = []\n",
        "RSS_reg_coeff = []\n",
        "for r in Lambda:\n",
        "  for i in range(5):\n",
        "    XTrain = np.ones([1, 21])\n",
        "    YTrain = np.ones([1, 1])\n",
        "    for j in range(5):\n",
        "      if i!= j: \n",
        "        XTrain = np.vstack((XTrain, X_train[j]))\n",
        "        YTrain = np.vstack((YTrain, Y_train[j]))\n",
        "    X_test = X_train[i]\n",
        "    Y_test = Y_train[i]\n",
        "\n",
        "    LP2 = Linear_regression_with_l2_reg(XTrain[1: ], YTrain[1: ], r)\n",
        "    LP2.fit()\n",
        "    Y_Pred = LP2.predict(X_test)\n",
        "    fold_RSS_reg_l2.append(RSS(Y_Pred, Y_test))\n",
        "  RSS_reg_coeff.append(np.average(fold_RSS_reg_l2))\n"
      ],
      "execution_count": 16,
      "outputs": []
    },
    {
      "cell_type": "code",
      "metadata": {
        "colab": {
          "base_uri": "https://localhost:8080/"
        },
        "id": "u28z1Zx7vvNj",
        "outputId": "79110b51-196e-41e7-c7f7-6464aa02f07c"
      },
      "source": [
        "print(RSS_reg_coeff)\n",
        "best_lambda = Lambda[RSS_reg_coeff.index(min(RSS_reg_coeff))]\n",
        "print(best_lambda)"
      ],
      "execution_count": 17,
      "outputs": [
        {
          "output_type": "stream",
          "name": "stdout",
          "text": [
            "[1059.4062825350939, 1048.5727095744985, 1037.3656767825225, 1025.8008073450073, 1013.9107267300066, 1001.7524840472253, 989.416795487835, 977.0372359939214, 964.7935495633003, 952.9259081185076, 942.7849706830002, 934.916745967807, 929.9896750197566, 926.9758655777108, 924.5528039447, 922.4326399827081]\n",
            "1e-08\n"
          ]
        }
      ]
    },
    {
      "cell_type": "code",
      "metadata": {
        "id": "m5SQBpYk2KIq"
      },
      "source": [
        "#A logistic regression  model  to  classify  between  low  and  high  combat  points.\n",
        "import numpy as np\n",
        "from sklearn.model_selection import train_test_split\n",
        "\n",
        "X = data_np[:, :-1]\n",
        "y = data_np[:,-1]\n",
        "\n",
        "avg = y - np.average(y)\n",
        "for i in range(len(avg)):\n",
        "  if avg[i]<0:\n",
        "    y[i] = 0\n",
        "  else:\n",
        "    y[i] = 1\n",
        "\n",
        "XL_train, XL_test, yL_train, yL_test = train_test_split(X, y, test_size=0.2, random_state=42)"
      ],
      "execution_count": 18,
      "outputs": []
    },
    {
      "cell_type": "code",
      "metadata": {
        "id": "mejh8RSp4Jpp"
      },
      "source": [
        "#train the model\n",
        "from sklearn.linear_model import LogisticRegression\n",
        "clf = LogisticRegression(penalty='none').fit(XL_train, yL_train)"
      ],
      "execution_count": 19,
      "outputs": []
    },
    {
      "cell_type": "code",
      "metadata": {
        "colab": {
          "base_uri": "https://localhost:8080/"
        },
        "id": "gMBhYCIh4sBG",
        "outputId": "a7405b67-7bc4-4625-b680-7a6702c40aca"
      },
      "source": [
        "#score and test the classifier\n",
        "clf.predict(XL_test)\n",
        "#print(\"The probability of the outcomes are: \")\n",
        "#print(clf.predict_proba(XL_test))\n",
        "print(\"The score of the classifier on the test set is: \")\n",
        "print(clf.score(XL_test, yL_test))"
      ],
      "execution_count": 20,
      "outputs": [
        {
          "output_type": "stream",
          "name": "stdout",
          "text": [
            "The score of the classifier on the test set is: \n",
            "0.9666666666666667\n"
          ]
        }
      ]
    },
    {
      "cell_type": "markdown",
      "metadata": {
        "id": "Kz39aaYu2SOV"
      },
      "source": [
        "**viii. Logistic regression  model  to  classify  between  low  and  high  combat  points.**"
      ]
    },
    {
      "cell_type": "code",
      "metadata": {
        "id": "v8utWMah2ZNM"
      },
      "source": [
        "#A logistic  regression  model  with  regularization  to  classify  between  low and  high  combat  points"
      ],
      "execution_count": 21,
      "outputs": []
    },
    {
      "cell_type": "markdown",
      "metadata": {
        "id": "dKZLI5Dk2non"
      },
      "source": [
        "**ix. A  logistic  regression  model  with  regularization  to  classify  between  low and  high  combat  points**"
      ]
    },
    {
      "cell_type": "code",
      "metadata": {
        "id": "ehEP-h4G2mfY"
      },
      "source": [
        "from sklearn.model_selection import KFold, RandomizedSearchCV, GridSearchCV\n",
        "model = LogisticRegression()\n",
        "penalty = ['l1', 'l2']\n",
        "C = np.linspace(0.0, 10, 50)\n",
        "hyperparameters = dict(C=C, penalty = penalty)\n",
        "kfold = KFold(n_splits= 5)\n",
        "\n",
        "\n",
        "rsearch = GridSearchCV(model, hyperparameters, cv = kfold)\n",
        "rsearch.fit(XL_train, yL_train)\n",
        "print(rsearch.best_params_)\n"
      ],
      "execution_count": null,
      "outputs": []
    },
    {
      "cell_type": "code",
      "metadata": {
        "colab": {
          "base_uri": "https://localhost:8080/"
        },
        "id": "rnf-01qVJJHu",
        "outputId": "410229cb-4b95-430d-92d7-049fd8aaa673"
      },
      "source": [
        "print(rsearch.best_params_)"
      ],
      "execution_count": 25,
      "outputs": [
        {
          "output_type": "stream",
          "name": "stdout",
          "text": [
            "{'C': 0.6122448979591837, 'penalty': 'l2'}\n"
          ]
        }
      ]
    }
  ]
}