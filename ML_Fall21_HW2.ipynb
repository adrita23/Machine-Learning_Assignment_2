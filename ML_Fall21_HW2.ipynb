{
  "nbformat": 4,
  "nbformat_minor": 0,
  "metadata": {
    "colab": {
      "name": "ML_Fall21_HW2.ipynb",
      "provenance": [],
      "authorship_tag": "ABX9TyOJtA0lY2CDLzzeawGdgE0i",
      "include_colab_link": true
    },
    "kernelspec": {
      "name": "python3",
      "display_name": "Python 3"
    },
    "language_info": {
      "name": "python"
    }
  },
  "cells": [
    {
      "cell_type": "markdown",
      "metadata": {
        "id": "view-in-github",
        "colab_type": "text"
      },
      "source": [
        "<a href=\"https://colab.research.google.com/github/adrita23/Machine-Learning_Assignment_2/blob/main/ML_Fall21_HW2.ipynb\" target=\"_parent\"><img src=\"https://colab.research.google.com/assets/colab-badge.svg\" alt=\"Open In Colab\"/></a>"
      ]
    },
    {
      "cell_type": "code",
      "metadata": {
        "id": "Yo4IL15dyIY7"
      },
      "source": [
        "#Fall 2021\n",
        "#ML 633: Machine Learning\n",
        "#Homework: 2 \n",
        "#Date: October 7, 2021\n",
        "#Author: Adrita Anika"
      ],
      "execution_count": null,
      "outputs": []
    }
  ]
}